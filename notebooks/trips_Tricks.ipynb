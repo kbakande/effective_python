{
 "cells": [
  {
   "cell_type": "code",
   "execution_count": 11,
   "id": "5e8f81ea",
   "metadata": {},
   "outputs": [
    {
     "name": "stdout",
     "output_type": "stream",
     "text": [
      "I can be yours\n"
     ]
    }
   ],
   "source": [
    "# Ternary operator\n",
    "x = 3\n",
    "\n",
    "#alternative\n",
    "# if x == 2:\n",
    "#     print(\"I am yours\")\n",
    "# else:\n",
    "#     print(\"I can be yours\")\n",
    "\n",
    "print(\"I am yours\")  if x == 2 else print(\"I can be yours\")"
   ]
  },
  {
   "cell_type": "code",
   "execution_count": 3,
   "id": "662fa510",
   "metadata": {},
   "outputs": [
    {
     "name": "stdout",
     "output_type": "stream",
     "text": [
      "300,100,100\n"
     ]
    }
   ],
   "source": [
    "#Numbers delimting\n",
    "FIRST_NUM = 100_000_000\n",
    "SECOND_NUM = 200_100_100\n",
    "\n",
    "print(f'{FIRST_NUM+SECOND_NUM:,}') #also "
   ]
  },
  {
   "cell_type": "code",
   "execution_count": 4,
   "id": "e4e90723",
   "metadata": {},
   "outputs": [],
   "source": [
    "#Enumerate\n"
   ]
  },
  {
   "cell_type": "code",
   "execution_count": 5,
   "id": "974f23bd",
   "metadata": {},
   "outputs": [],
   "source": [
    "#Zip\n"
   ]
  },
  {
   "cell_type": "code",
   "execution_count": null,
   "id": "4e00976d",
   "metadata": {},
   "outputs": [],
   "source": [
    "#Unpacking\n",
    "a, b, *_, d = (1, 2, 3, 4, 5, 6)\n",
    "\n",
    "a, b, *c, d = (1, 2, 3, 4, 5, 6)"
   ]
  },
  {
   "cell_type": "code",
   "execution_count": 9,
   "id": "cf3760b3",
   "metadata": {},
   "outputs": [
    {
     "name": "stdout",
     "output_type": "stream",
     "text": [
      "<__main__.Person object at 0x105f16730>\n",
      "Shawarma\n"
     ]
    }
   ],
   "source": [
    "#Getting and Setting Attributes on Objecs\n",
    "class Person():\n",
    "    pass\n",
    "\n",
    "#get an instance of the Person object\n",
    "person = Person()\n",
    "\n",
    "print(person)\n",
    "\n",
    "#This will set the attribute first within the person instance to value Shawarma\n",
    "person.first = \"Shawarma\"\n",
    "\n",
    "print(person.first)\n"
   ]
  },
  {
   "cell_type": "code",
   "execution_count": 10,
   "id": "d5514373",
   "metadata": {},
   "outputs": [
    {
     "name": "stdout",
     "output_type": "stream",
     "text": [
      "convention\n"
     ]
    }
   ],
   "source": [
    "#Using setattr and getattr to do the above cell\n",
    "class Personified():\n",
    "    pass\n",
    "\n",
    "persony = Personified()\n",
    "\n",
    "first_attr = \"naming\"\n",
    "first_val = \"convention\"\n",
    "\n",
    "#setting attribute in Personified\n",
    "setattr(persony, first_attr, first_val)\n",
    "\n",
    "#getting attribute in Personified persony instance\n",
    "attr_retrieved = getattr(persony, first_attr) #should print out \n",
    "\n",
    "assert attr_retrieved == first_val, 'getattr method did not work'\n",
    "print(attr_retrieved) #should print out convention"
   ]
  },
  {
   "cell_type": "code",
   "execution_count": 22,
   "id": "0a2ac71c",
   "metadata": {},
   "outputs": [
    {
     "name": "stdout",
     "output_type": "stream",
     "text": [
      "first_name: Shawarma\n",
      "second_name: Sharjarma\n"
     ]
    },
    {
     "data": {
      "text/plain": [
       "\"printing the persony object instance : /n {'naming': 'convention', 'first_name': 'Shawarma', 'second_name': 'Sharjarma'}\""
      ]
     },
     "execution_count": 22,
     "metadata": {},
     "output_type": "execute_result"
    }
   ],
   "source": [
    "#Better implementation for the above cell\n",
    "#declare object with key value\n",
    "person_info = {\"first_name\": \"Shawarma\", \"second_name\": \"Sharjarma\"}\n",
    "\n",
    "#set firts and second attributes in persony instance\n",
    "for key, value in person_info.items(): #unpacking here, could have used the tuple in loop directly\n",
    "    setattr(persony, key, value)\n",
    "    \n",
    "#retrive the atribute with getattr\n",
    "for key in person_info.keys():\n",
    "    print(f\"{key}: {getattr(persony, key)}\")\n",
    "    \n",
    "f\"printing the persony object instance : {persony.__dict__}\""
   ]
  },
  {
   "cell_type": "code",
   "execution_count": 23,
   "id": "7d632bd3",
   "metadata": {},
   "outputs": [
    {
     "data": {
      "text/plain": [
       "[None, None]"
      ]
     },
     "execution_count": 23,
     "metadata": {},
     "output_type": "execute_result"
    }
   ],
   "source": [
    "#avoid loop in the above\n",
    "[setattr(persony, key, value) for key, value in person_info.items()]"
   ]
  },
  {
   "cell_type": "code",
   "execution_count": 34,
   "id": "daeb045b",
   "metadata": {},
   "outputs": [
    {
     "data": {
      "text/plain": [
       "['first_name: Shawarma', 'second_name: Sharjarma']"
      ]
     },
     "execution_count": 34,
     "metadata": {},
     "output_type": "execute_result"
    }
   ],
   "source": [
    "#using list comprehension\n",
    "[f\"{key}: {getattr(persony, key)}\" for key in person_info.keys()]"
   ]
  },
  {
   "cell_type": "code",
   "execution_count": null,
   "id": "b780f5e5",
   "metadata": {},
   "outputs": [],
   "source": [
    "#running a module with -m which \n",
    "python -m module_to_be_run"
   ]
  },
  {
   "cell_type": "code",
   "execution_count": 36,
   "id": "f91db2e6",
   "metadata": {},
   "outputs": [
    {
     "name": "stdout",
     "output_type": "stream",
     "text": [
      "Help on Personified in module __main__ object:\n",
      "\n",
      "class Personified(builtins.object)\n",
      " |  Data descriptors defined here:\n",
      " |  \n",
      " |  __dict__\n",
      " |      dictionary for instance variables (if defined)\n",
      " |  \n",
      " |  __weakref__\n",
      " |      list of weak references to the object (if defined)\n",
      "\n",
      "None\n"
     ]
    }
   ],
   "source": [
    "#method reoslution order for class\n",
    "print(help(persony))"
   ]
  },
  {
   "cell_type": "code",
   "execution_count": null,
   "id": "d0fec721",
   "metadata": {},
   "outputs": [],
   "source": []
  }
 ],
 "metadata": {
  "kernelspec": {
   "display_name": "Python 3 (ipykernel)",
   "language": "python",
   "name": "python3"
  },
  "language_info": {
   "codemirror_mode": {
    "name": "ipython",
    "version": 3
   },
   "file_extension": ".py",
   "mimetype": "text/x-python",
   "name": "python",
   "nbconvert_exporter": "python",
   "pygments_lexer": "ipython3",
   "version": "3.9.16"
  }
 },
 "nbformat": 4,
 "nbformat_minor": 5
}
