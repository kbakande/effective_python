{
 "cells": [
  {
   "cell_type": "code",
   "execution_count": 11,
   "id": "5e8f81ea",
   "metadata": {},
   "outputs": [
    {
     "name": "stdout",
     "output_type": "stream",
     "text": [
      "I can be yours\n"
     ]
    }
   ],
   "source": [
    "# Ternary operator\n",
    "x = 3\n",
    "\n",
    "#alternative\n",
    "# if x == 2:\n",
    "#     print(\"I am yours\")\n",
    "# else:\n",
    "#     print(\"I can be yours\")\n",
    "\n",
    "print(\"I am yours\")  if x == 2 else print(\"I can be yours\")"
   ]
  },
  {
   "cell_type": "code",
   "execution_count": null,
   "id": "662fa510",
   "metadata": {},
   "outputs": [],
   "source": [
    "#Numbers delimting\n",
    "FIRST_NUM = 100_000_000\n",
    "SECOND_NUM "
   ]
  }
 ],
 "metadata": {
  "kernelspec": {
   "display_name": "Python 3 (ipykernel)",
   "language": "python",
   "name": "python3"
  },
  "language_info": {
   "codemirror_mode": {
    "name": "ipython",
    "version": 3
   },
   "file_extension": ".py",
   "mimetype": "text/x-python",
   "name": "python",
   "nbconvert_exporter": "python",
   "pygments_lexer": "ipython3",
   "version": "3.9.16"
  }
 },
 "nbformat": 4,
 "nbformat_minor": 5
}
