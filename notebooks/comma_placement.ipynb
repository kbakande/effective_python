{
 "cells": [
  {
   "cell_type": "code",
   "execution_count": 1,
   "id": "6daf4d00",
   "metadata": {},
   "outputs": [],
   "source": [
    "#source control system struggles to highlight difference made on a line\n",
    "list_names = [\n",
    "    \"name_one\",\n",
    "    \"name_two\",\n",
    "    \"name_three\"\n",
    "]"
   ]
  },
  {
   "cell_type": "code",
   "execution_count": 5,
   "id": "a71c75db",
   "metadata": {},
   "outputs": [
    {
     "name": "stdout",
     "output_type": "stream",
     "text": [
      "['name_one', 'name_two', 'name_three name_four']\n"
     ]
    }
   ],
   "source": [
    "#possible error, if above list is updated with forgotten comma error\n",
    "list_names = [\n",
    "    \"name_one\",\n",
    "    \"name_two\",\n",
    "    \"name_three\" #error here\n",
    "    \"name_four\"\n",
    "]\n",
    "\n",
    "print(list_names) #python concatenate the two lines!"
   ]
  },
  {
   "cell_type": "code",
   "execution_count": 3,
   "id": "7166e56e",
   "metadata": {},
   "outputs": [
    {
     "data": {
      "text/plain": [
       "['name_one', 'name_two', 'name_three', 'name_four']"
      ]
     },
     "execution_count": 3,
     "metadata": {},
     "output_type": "execute_result"
    }
   ],
   "source": [
    "list_names\n"
   ]
  },
  {
   "cell_type": "code",
   "execution_count": null,
   "id": "16d5b5b1",
   "metadata": {},
   "outputs": [],
   "source": []
  }
 ],
 "metadata": {
  "kernelspec": {
   "display_name": "Python 3 (ipykernel)",
   "language": "python",
   "name": "python3"
  },
  "language_info": {
   "codemirror_mode": {
    "name": "ipython",
    "version": 3
   },
   "file_extension": ".py",
   "mimetype": "text/x-python",
   "name": "python",
   "nbconvert_exporter": "python",
   "pygments_lexer": "ipython3",
   "version": "3.9.16"
  }
 },
 "nbformat": 4,
 "nbformat_minor": 5
}
