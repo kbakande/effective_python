{
 "cells": [
  {
   "cell_type": "code",
   "execution_count": 12,
   "id": "c6980a9d",
   "metadata": {},
   "outputs": [
    {
     "data": {
      "text/plain": [
       "\"('BABATUNDE', 'SOYINKA', 'SAEED')\""
      ]
     },
     "execution_count": 12,
     "metadata": {},
     "output_type": "execute_result"
    }
   ],
   "source": [
    "# use *args and **kwargs for flexible function variable arguments\n",
    "# for example in adecorator\n",
    "import functools\n",
    "def upper(func):\n",
    "    @functools.wraps(func) #lets you copy over func metadata for debugging purpose\n",
    "    def decorated_func(*args, **kwargs):\n",
    "        out = func(*args, **kwargs)\n",
    "        return out.upper()\n",
    "    return decorated_func\n",
    "\n",
    "@upper\n",
    "def yell(name1, name2, name3=\"some_names\"):\n",
    "    ''' I yell peoples' names '''\n",
    "    return f\"{name1, name2, name3}\"\n",
    "\n",
    "arg_names = (\"babatunde\", \"soyinka\")\n",
    "kwarg_names = {\"name3\":\"saeed\"}\n",
    "yell(*arg_names, **kwarg_names)"
   ]
  },
  {
   "cell_type": "code",
   "execution_count": null,
   "id": "a2b295d5",
   "metadata": {},
   "outputs": [],
   "source": []
  }
 ],
 "metadata": {
  "kernelspec": {
   "display_name": "Python 3 (ipykernel)",
   "language": "python",
   "name": "python3"
  },
  "language_info": {
   "codemirror_mode": {
    "name": "ipython",
    "version": 3
   },
   "file_extension": ".py",
   "mimetype": "text/x-python",
   "name": "python",
   "nbconvert_exporter": "python",
   "pygments_lexer": "ipython3",
   "version": "3.9.16"
  }
 },
 "nbformat": 4,
 "nbformat_minor": 5
}
