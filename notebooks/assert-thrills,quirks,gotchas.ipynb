{
 "cells": [
  {
   "cell_type": "markdown",
   "id": "d278bf55",
   "metadata": {},
   "source": [
    "### Used for debugging \n"
   ]
  },
  {
   "cell_type": "code",
   "execution_count": 16,
   "id": "3fdb471d",
   "metadata": {},
   "outputs": [
    {
     "name": "stdout",
     "output_type": "stream",
     "text": [
      "90.0\n"
     ]
    }
   ],
   "source": [
    "# def test_assert_for_debugging()\n",
    "def discounted_this(current_price: float, discount: float) -> float:\n",
    "    new_price = current_price - current_price*discount\n",
    "    assert 0 <= new_price <= current_price, ('new price violates defined range '\n",
    "    'as defined')\n",
    "    return new_price\n",
    "\n",
    "print(discounted_this(100, 0.1))"
   ]
  },
  {
   "cell_type": "markdown",
   "id": "d8aafc5f",
   "metadata": {},
   "source": [
    "#### caveat\n",
    "* Dont use assert for data validation\n",
    " * under the hood, assert logic first check for __debug__ global variable boolean flag. If this is false, which is possible, then assert never runs\n",
    "\n",
    "    "
   ]
  },
  {
   "cell_type": "code",
   "execution_count": 18,
   "id": "ff7e2b28",
   "metadata": {},
   "outputs": [
    {
     "name": "stderr",
     "output_type": "stream",
     "text": [
      "<>:5: SyntaxWarning: assertion is always true, perhaps remove parentheses?\n",
      "<>:5: SyntaxWarning: assertion is always true, perhaps remove parentheses?\n",
      "/var/folders/ry/26w9xk1j52d7mvm3ghqyhnq00000gn/T/ipykernel_15422/824634004.py:5: SyntaxWarning: assertion is always true, perhaps remove parentheses?\n",
      "  assert (\n"
     ]
    }
   ],
   "source": [
    "#Assert that never runs\n",
    "#A non empty tuple is truthy in python. Hence, when tuple is pass to assert statement, it assert the \n",
    "#truthy value of the tuple\n",
    "\n",
    "assert (\n",
    "    2 == 3,\n",
    "    'This should be false and throw error')"
   ]
  }
 ],
 "metadata": {
  "kernelspec": {
   "display_name": "Python 3 (ipykernel)",
   "language": "python",
   "name": "python3"
  },
  "language_info": {
   "codemirror_mode": {
    "name": "ipython",
    "version": 3
   },
   "file_extension": ".py",
   "mimetype": "text/x-python",
   "name": "python",
   "nbconvert_exporter": "python",
   "pygments_lexer": "ipython3",
   "version": "3.9.16"
  }
 },
 "nbformat": 4,
 "nbformat_minor": 5
}
