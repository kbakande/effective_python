{
 "cells": [
  {
   "cell_type": "markdown",
   "id": "13a51691",
   "metadata": {},
   "source": [
    "### Old style formatting\n",
    "* Old style formatting uses % to substitute variable in string with some specifier\n"
   ]
  },
  {
   "cell_type": "code",
   "execution_count": 1,
   "id": "499c859e",
   "metadata": {},
   "outputs": [],
   "source": [
    "# define variables\n",
    "name = \"Moshood\"\n",
    "msg = 1234567890"
   ]
  },
  {
   "cell_type": "code",
   "execution_count": 2,
   "id": "84ae0351",
   "metadata": {},
   "outputs": [
    {
     "name": "stdout",
     "output_type": "stream",
     "text": [
      "Hey Moshood check out 499602d2\n"
     ]
    }
   ],
   "source": [
    "# first approach\n",
    "print(\"Hey %s check out %x\" %(name, msg))"
   ]
  },
  {
   "cell_type": "code",
   "execution_count": 4,
   "id": "4e5b3739",
   "metadata": {},
   "outputs": [
    {
     "name": "stdout",
     "output_type": "stream",
     "text": [
      "Hey Moshood check pout 499602d2\n"
     ]
    }
   ],
   "source": [
    "# Second approach\n",
    "print(\"Hey %(name)s check pout %(msg)x\" %{ \"name\":name, \"msg\":msg})"
   ]
  },
  {
   "cell_type": "code",
   "execution_count": null,
   "id": "282acc31",
   "metadata": {},
   "outputs": [],
   "source": []
  }
 ],
 "metadata": {
  "kernelspec": {
   "display_name": "Python 3 (ipykernel)",
   "language": "python",
   "name": "python3"
  },
  "language_info": {
   "codemirror_mode": {
    "name": "ipython",
    "version": 3
   },
   "file_extension": ".py",
   "mimetype": "text/x-python",
   "name": "python",
   "nbconvert_exporter": "python",
   "pygments_lexer": "ipython3",
   "version": "3.9.16"
  }
 },
 "nbformat": 4,
 "nbformat_minor": 5
}
