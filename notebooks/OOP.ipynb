{
 "cells": [
  {
   "cell_type": "code",
   "execution_count": 70,
   "id": "61736243",
   "metadata": {},
   "outputs": [],
   "source": [
    "# create parent class\n",
    "class Family():\n",
    "    \n",
    "    def __init__(self, surname, town, head, num_children):\n",
    "        self.surname = surname\n",
    "        self.town = town\n",
    "        self.head = head\n",
    "        self.num_children = num_children\n",
    "        \n",
    "    def family_name(self, string=\"\"):\n",
    "        return f\"Our family name is {string} {self.surname}\"\n",
    "    "
   ]
  },
  {
   "cell_type": "code",
   "execution_count": 85,
   "id": "ad996693",
   "metadata": {},
   "outputs": [],
   "source": [
    "class Descendant(Family):\n",
    "    def __init__(self, name, surname, town, head, num_children):\n",
    "        super().__init__(surname, town, head, num_children)\n",
    "        self.name = name\n",
    "        \n",
    "    def family_name(self):\n",
    "        return f\"modified family name in child class: {super().family_name(self.name)}\"\n",
    "        \n",
    "    def full_name(self):\n",
    "        return f\"Unmodified family name in parent class: {super().family_name()}\""
   ]
  },
  {
   "cell_type": "code",
   "execution_count": 86,
   "id": "5e693521",
   "metadata": {},
   "outputs": [],
   "source": [
    "\n",
    "child_one = Descendant(\"Moshood\", \"Tiamiyu\", 18, \"Odeogbolu\", \"Olomololaye\")"
   ]
  },
  {
   "cell_type": "code",
   "execution_count": 87,
   "id": "81ff5d19",
   "metadata": {},
   "outputs": [
    {
     "data": {
      "text/plain": [
       "'Unmodified family name in parent class: Our family name is  Tiamiyu'"
      ]
     },
     "execution_count": 87,
     "metadata": {},
     "output_type": "execute_result"
    }
   ],
   "source": [
    "child_one.full_name()\n"
   ]
  },
  {
   "cell_type": "code",
   "execution_count": 88,
   "id": "c0a83ab9",
   "metadata": {},
   "outputs": [
    {
     "data": {
      "text/plain": [
       "'modified family name in child class: Our family name is Moshood Tiamiyu'"
      ]
     },
     "execution_count": 88,
     "metadata": {},
     "output_type": "execute_result"
    }
   ],
   "source": [
    "child_one.family_name()"
   ]
  },
  {
   "cell_type": "code",
   "execution_count": 95,
   "id": "e2663477",
   "metadata": {},
   "outputs": [
    {
     "name": "stdout",
     "output_type": "stream",
     "text": [
      "Help on Descendant in module __main__ object:\n",
      "\n",
      "class Descendant(Family)\n",
      " |  Descendant(name, surname, town, head, num_children)\n",
      " |  \n",
      " |  Method resolution order:\n",
      " |      Descendant\n",
      " |      Family\n",
      " |      builtins.object\n",
      " |  \n",
      " |  Methods defined here:\n",
      " |  \n",
      " |  __init__(self, name, surname, town, head, num_children)\n",
      " |      Initialize self.  See help(type(self)) for accurate signature.\n",
      " |  \n",
      " |  family_name(self)\n",
      " |  \n",
      " |  full_name(self)\n",
      " |  \n",
      " |  ----------------------------------------------------------------------\n",
      " |  Data descriptors inherited from Family:\n",
      " |  \n",
      " |  __dict__\n",
      " |      dictionary for instance variables (if defined)\n",
      " |  \n",
      " |  __weakref__\n",
      " |      list of weak references to the object (if defined)\n",
      "\n",
      "None\n"
     ]
    }
   ],
   "source": [
    "# print method resultion order\n",
    "print(help(child_one))"
   ]
  },
  {
   "cell_type": "code",
   "execution_count": null,
   "id": "1ecd539b",
   "metadata": {},
   "outputs": [],
   "source": []
  }
 ],
 "metadata": {
  "kernelspec": {
   "display_name": "Python 3 (ipykernel)",
   "language": "python",
   "name": "python3"
  },
  "language_info": {
   "codemirror_mode": {
    "name": "ipython",
    "version": 3
   },
   "file_extension": ".py",
   "mimetype": "text/x-python",
   "name": "python",
   "nbconvert_exporter": "python",
   "pygments_lexer": "ipython3",
   "version": "3.9.16"
  }
 },
 "nbformat": 4,
 "nbformat_minor": 5
}
