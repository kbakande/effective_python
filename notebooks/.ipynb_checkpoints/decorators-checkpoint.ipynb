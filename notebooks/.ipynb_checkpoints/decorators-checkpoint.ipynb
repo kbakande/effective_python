{
 "cells": [
  {
   "cell_type": "markdown",
   "id": "638e05ba",
   "metadata": {},
   "source": [
    "### Decorators allow alteration of callables' behaviour without changing the function itself\n",
    "* For a decorator to be useful, there needs to be at least 3 functions\n",
    "* A function that takes in function to be decorated and returns a function decorating it\n",
    "\n"
   ]
  },
  {
   "cell_type": "code",
   "execution_count": 4,
   "id": "b7ad3a18",
   "metadata": {},
   "outputs": [
    {
     "data": {
      "text/plain": [
       "'HIYA, BOB'"
      ]
     },
     "execution_count": 4,
     "metadata": {},
     "output_type": "execute_result"
    }
   ],
   "source": [
    "# lets make a simple example\n",
    "def decorate(t_b_decorated):\n",
    "    def decorating():\n",
    "        initial_output = t_b_decorated()\n",
    "        decorated_out = initial_output.upper() #decorated output\n",
    "        return decorated_out\n",
    "    return decorating\n",
    "\n",
    "# real example, decorate greetings by turning it to uppercase\n",
    "def greet(name):\n",
    "    return f\"hiya, {name}\"\n",
    "def dec_greet(func):\n",
    "    def add2greet(name):\n",
    "        return f\"{func(name).upper()}\"\n",
    "    return add2greet\n",
    "\n",
    "dec_greet(greet)(\"Bob\")\n"
   ]
  },
  {
   "cell_type": "code",
   "execution_count": 5,
   "id": "8489c22e",
   "metadata": {},
   "outputs": [
    {
     "data": {
      "text/plain": [
       "'HIYA, BOB'"
      ]
     },
     "execution_count": 5,
     "metadata": {},
     "output_type": "execute_result"
    }
   ],
   "source": [
    "# now using the @ decorator functionality\n",
    "@dec_greet\n",
    "def greet(name):\n",
    "    return f\"hiya, {name}\"\n",
    "\n",
    "greet(\"bob\")"
   ]
  },
  {
   "cell_type": "markdown",
   "id": "dfa9a9cc",
   "metadata": {},
   "source": [
    "* When using @decorator, decorator is a defined function , taking in a function and erturning another function that has decorated the functin it took in"
   ]
  },
  {
   "cell_type": "code",
   "execution_count": null,
   "id": "901e4f5b",
   "metadata": {},
   "outputs": [],
   "source": []
  }
 ],
 "metadata": {
  "kernelspec": {
   "display_name": "Python 3 (ipykernel)",
   "language": "python",
   "name": "python3"
  },
  "language_info": {
   "codemirror_mode": {
    "name": "ipython",
    "version": 3
   },
   "file_extension": ".py",
   "mimetype": "text/x-python",
   "name": "python",
   "nbconvert_exporter": "python",
   "pygments_lexer": "ipython3",
   "version": "3.9.16"
  }
 },
 "nbformat": 4,
 "nbformat_minor": 5
}
