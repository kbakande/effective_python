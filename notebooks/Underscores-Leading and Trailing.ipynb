{
 "cells": [
  {
   "cell_type": "markdown",
   "id": "4157f68a",
   "metadata": {},
   "source": [
    "* 1. Single leading underscore -> means this is an inetrnal variable\n",
    "    * Just for sign posting\n",
    "    * Does not imapct the program behaviour"
   ]
  },
  {
   "cell_type": "code",
   "execution_count": 5,
   "id": "bf972c28",
   "metadata": {},
   "outputs": [
    {
     "name": "stdout",
     "output_type": "stream",
     "text": [
      "bar: bar, foo:foo\n"
     ]
    }
   ],
   "source": [
    "# set up a class\n",
    "class dunder():\n",
    "    def __init__(self, bar, foo):\n",
    "        self.bar = bar\n",
    "        self._foo = foo\n",
    "\n",
    "# instantiate class dunder\n",
    "dundClass = dunder(\"bar\", \"foo\")\n",
    "\n",
    "print(f\"bar: {dundClass.bar}, foo:{dundClass._foo}\")\n"
   ]
  },
  {
   "cell_type": "markdown",
   "id": "1d71dbb7",
   "metadata": {},
   "source": [
    "* leading underscore does not impact python behaviour for methods and variables\n",
    "* when using wildcard import, python does not import names with leading underscore"
   ]
  },
  {
   "cell_type": "code",
   "execution_count": 6,
   "id": "3428674d",
   "metadata": {},
   "outputs": [
    {
     "data": {
      "text/plain": [
       "33"
      ]
     },
     "execution_count": 6,
     "metadata": {},
     "output_type": "execute_result"
    }
   ],
   "source": [
    "from test_module import *\n",
    "external_func()"
   ]
  },
  {
   "cell_type": "code",
   "execution_count": 7,
   "id": "faa53264",
   "metadata": {},
   "outputs": [
    {
     "ename": "NameError",
     "evalue": "name '_internal_func' is not defined",
     "output_type": "error",
     "traceback": [
      "\u001b[0;31m---------------------------------------------------------------------------\u001b[0m",
      "\u001b[0;31mNameError\u001b[0m                                 Traceback (most recent call last)",
      "Input \u001b[0;32mIn [7]\u001b[0m, in \u001b[0;36m<cell line: 1>\u001b[0;34m()\u001b[0m\n\u001b[0;32m----> 1\u001b[0m \u001b[43m_internal_func\u001b[49m()\n",
      "\u001b[0;31mNameError\u001b[0m: name '_internal_func' is not defined"
     ]
    }
   ],
   "source": [
    "_internal_func() #produces error due to wildcard import error"
   ]
  },
  {
   "cell_type": "code",
   "execution_count": 10,
   "id": "8191732b",
   "metadata": {},
   "outputs": [
    {
     "data": {
      "text/plain": [
       "43"
      ]
     },
     "execution_count": 10,
     "metadata": {},
     "output_type": "execute_result"
    }
   ],
   "source": [
    "# using regular import\n",
    "from test_module import _internal_func\n",
    "_internal_func()\n"
   ]
  },
  {
   "cell_type": "markdown",
   "id": "3fc2c80c",
   "metadata": {},
   "source": [
    "# 2. Use trailing underscore to avoid naming conflicts\n"
   ]
  },
  {
   "cell_type": "code",
   "execution_count": 11,
   "id": "23438853",
   "metadata": {},
   "outputs": [
    {
     "ename": "SyntaxError",
     "evalue": "invalid syntax (3363465544.py, line 1)",
     "output_type": "error",
     "traceback": [
      "\u001b[0;36m  Input \u001b[0;32mIn [11]\u001b[0;36m\u001b[0m\n\u001b[0;31m    def test_trailing(name, class):\u001b[0m\n\u001b[0m                            ^\u001b[0m\n\u001b[0;31mSyntaxError\u001b[0m\u001b[0;31m:\u001b[0m invalid syntax\n"
     ]
    }
   ],
   "source": [
    "def test_trailing(name, class):\n",
    "    print(class)\n",
    "    "
   ]
  },
  {
   "cell_type": "code",
   "execution_count": 14,
   "id": "5668821e",
   "metadata": {},
   "outputs": [
    {
     "name": "stdout",
     "output_type": "stream",
     "text": [
      "testing trailing underscore\n"
     ]
    }
   ],
   "source": [
    "#attacjh underscopre to special word \"class\" to avoid conflicting with python class word special\n",
    "def test_trailing(name, _class):\n",
    "    print(f\"testing trailing underscore\")\n",
    "test_trailing(\"Jide\", \"tonwo\")"
   ]
  },
  {
   "cell_type": "markdown",
   "id": "6e15161a",
   "metadata": {},
   "source": [
    "# 3. double underscores produce name mangling to avoid conflicts in subclasses ---- Enforced by Python parser"
   ]
  },
  {
   "cell_type": "code",
   "execution_count": 15,
   "id": "f9d5b018",
   "metadata": {},
   "outputs": [
    {
     "ename": "AttributeError",
     "evalue": "'TestDunder' object has no attribute '__baz'",
     "output_type": "error",
     "traceback": [
      "\u001b[0;31m---------------------------------------------------------------------------\u001b[0m",
      "\u001b[0;31mAttributeError\u001b[0m                            Traceback (most recent call last)",
      "Input \u001b[0;32mIn [15]\u001b[0m, in \u001b[0;36m<cell line: 7>\u001b[0;34m()\u001b[0m\n\u001b[1;32m      5\u001b[0m         \u001b[38;5;28mself\u001b[39m\u001b[38;5;241m.\u001b[39m__baz \u001b[38;5;241m=\u001b[39m \u001b[38;5;241m76\u001b[39m\n\u001b[1;32m      6\u001b[0m t \u001b[38;5;241m=\u001b[39m TestDunder()\n\u001b[0;32m----> 7\u001b[0m \u001b[43mt\u001b[49m\u001b[38;5;241;43m.\u001b[39;49m\u001b[43m__baz\u001b[49m\n",
      "\u001b[0;31mAttributeError\u001b[0m: 'TestDunder' object has no attribute '__baz'"
     ]
    }
   ],
   "source": [
    "class TestDunder:\n",
    "    def __init__(self):\n",
    "        self.foo = 54\n",
    "        self._bar = 65\n",
    "        self.__baz = 76\n",
    "t = TestDunder()\n",
    "t.__baz #would not work because Python mangled the name and prefix _ClassName"
   ]
  },
  {
   "cell_type": "code",
   "execution_count": 16,
   "id": "b231f52f",
   "metadata": {},
   "outputs": [
    {
     "data": {
      "text/plain": [
       "{'foo': 54, '_bar': 65, '_TestDunder__baz': 76}"
      ]
     },
     "execution_count": 16,
     "metadata": {},
     "output_type": "execute_result"
    }
   ],
   "source": [
    "#Check what python change the name to by checking the class namespace\n",
    "t.__dict__ #or dir(t)"
   ]
  },
  {
   "cell_type": "code",
   "execution_count": 18,
   "id": "90bec000",
   "metadata": {},
   "outputs": [
    {
     "data": {
      "text/plain": [
       "76"
      ]
     },
     "execution_count": 18,
     "metadata": {},
     "output_type": "execute_result"
    }
   ],
   "source": [
    "#try accessing it again\n",
    "t._TestDunder__baz #works now"
   ]
  },
  {
   "cell_type": "code",
   "execution_count": 54,
   "id": "15c57fb4",
   "metadata": {},
   "outputs": [],
   "source": [
    "#what is the use whne inheriting\n",
    "#lets extend the class\n",
    "class ExtendedTestDunder(TestDunder):\n",
    "    def __init__(self):\n",
    "        super().__init__()\n",
    "        self.__baz = \"for the extended class\"\n",
    "        "
   ]
  },
  {
   "cell_type": "code",
   "execution_count": 55,
   "id": "fb7c20a9",
   "metadata": {},
   "outputs": [
    {
     "data": {
      "text/plain": [
       "'for the extended class'"
      ]
     },
     "execution_count": 55,
     "metadata": {},
     "output_type": "execute_result"
    }
   ],
   "source": [
    "etd = ExtendedTestDunder()\n",
    "etd._TestDunder__baz\n",
    "etd._ExtendedTestDunder__baz"
   ]
  },
  {
   "cell_type": "code",
   "execution_count": 56,
   "id": "ce1722a0",
   "metadata": {},
   "outputs": [
    {
     "data": {
      "text/plain": [
       "{'foo': 54,\n",
       " '_bar': 65,\n",
       " '_TestDunder__baz': 76,\n",
       " '_ExtendedTestDunder__baz': 'for the extended class'}"
      ]
     },
     "execution_count": 56,
     "metadata": {},
     "output_type": "execute_result"
    }
   ],
   "source": [
    "etd.__dict__"
   ]
  },
  {
   "cell_type": "markdown",
   "id": "62da79d3",
   "metadata": {},
   "source": [
    "### 4. leading and trailing underscore\n",
    "* Reserved for python special methods, sometimes call magic \n",
    "* Better avoided constructing variables in this format"
   ]
  },
  {
   "cell_type": "code",
   "execution_count": 57,
   "id": "a3377b0a",
   "metadata": {},
   "outputs": [],
   "source": [
    "# eg  '__str__', __call__"
   ]
  },
  {
   "cell_type": "markdown",
   "id": "5f671dc1",
   "metadata": {},
   "source": [
    "### 5. Single underscore\n",
    "* Use as 'I dont care\" variable\n",
    "* Output of last interpreter evaluation are assigned to it"
   ]
  },
  {
   "cell_type": "code",
   "execution_count": null,
   "id": "62a5f459",
   "metadata": {},
   "outputs": [],
   "source": []
  }
 ],
 "metadata": {
  "kernelspec": {
   "display_name": "Python 3 (ipykernel)",
   "language": "python",
   "name": "python3"
  },
  "language_info": {
   "codemirror_mode": {
    "name": "ipython",
    "version": 3
   },
   "file_extension": ".py",
   "mimetype": "text/x-python",
   "name": "python",
   "nbconvert_exporter": "python",
   "pygments_lexer": "ipython3",
   "version": "3.9.16"
  }
 },
 "nbformat": 4,
 "nbformat_minor": 5
}
