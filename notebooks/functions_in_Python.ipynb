{
 "cells": [
  {
   "cell_type": "code",
   "execution_count": 5,
   "id": "ecce4767",
   "metadata": {},
   "outputs": [
    {
     "data": {
      "text/plain": [
       "'HELLO!'"
      ]
     },
     "execution_count": 5,
     "metadata": {},
     "output_type": "execute_result"
    }
   ],
   "source": [
    "# Functions and their names are two separate concerns\n",
    "def shout(text):\n",
    "    return f\"{text.upper()}!\"\n",
    "\n",
    "shout(\"hello\")"
   ]
  },
  {
   "cell_type": "code",
   "execution_count": 6,
   "id": "d8e158d4",
   "metadata": {},
   "outputs": [
    {
     "data": {
      "text/plain": [
       "'WOOOH!'"
      ]
     },
     "execution_count": 6,
     "metadata": {},
     "output_type": "execute_result"
    }
   ],
   "source": [
    "# shout is just a name pointing to function opbject\n",
    "# create a new var pointing to same function object\n",
    "wail = shout\n",
    "\n",
    "wail(\"woooh\")"
   ]
  },
  {
   "cell_type": "code",
   "execution_count": 7,
   "id": "fc0db99b",
   "metadata": {},
   "outputs": [
    {
     "ename": "NameError",
     "evalue": "name 'shout' is not defined",
     "output_type": "error",
     "traceback": [
      "\u001b[0;31m---------------------------------------------------------------------------\u001b[0m",
      "\u001b[0;31mNameError\u001b[0m                                 Traceback (most recent call last)",
      "Input \u001b[0;32mIn [7]\u001b[0m, in \u001b[0;36m<cell line: 4>\u001b[0;34m()\u001b[0m\n\u001b[1;32m      1\u001b[0m \u001b[38;5;66;03m# to prve there is shout and wail are just var pointing to a\u001b[39;00m\n\u001b[1;32m      2\u001b[0m \u001b[38;5;66;03m# function object, del shout\u001b[39;00m\n\u001b[1;32m      3\u001b[0m \u001b[38;5;28;01mdel\u001b[39;00m shout\n\u001b[0;32m----> 4\u001b[0m \u001b[43mshout\u001b[49m(\u001b[38;5;124m\"\u001b[39m\u001b[38;5;124mhello\u001b[39m\u001b[38;5;124m\"\u001b[39m)\n",
      "\u001b[0;31mNameError\u001b[0m: name 'shout' is not defined"
     ]
    }
   ],
   "source": [
    "# to prve there is shout and wail are just var pointing to a\n",
    "# function object, del shout\n",
    "del shout\n",
    "shout(\"hello\") #no longer existing"
   ]
  },
  {
   "cell_type": "code",
   "execution_count": 8,
   "id": "75815a42",
   "metadata": {},
   "outputs": [
    {
     "data": {
      "text/plain": [
       "'WHAT!'"
      ]
     },
     "execution_count": 8,
     "metadata": {},
     "output_type": "execute_result"
    }
   ],
   "source": [
    "# howver, function object still existis as wail points to it\n",
    "wail(\"what\")"
   ]
  },
  {
   "cell_type": "code",
   "execution_count": 10,
   "id": "e1f8ec35",
   "metadata": {},
   "outputs": [
    {
     "name": "stdout",
     "output_type": "stream",
     "text": [
      "assesed via __name__:shout\n",
      "assesed via __qualname__:shout\n"
     ]
    }
   ],
   "source": [
    "# python assign string identifier to every function at creation time\n",
    "print(f\"assesed via __name__:{wail.__name__}\")\n",
    "# or\n",
    "print(f\"assesed via __qualname__:{wail.__qualname__}\")"
   ]
  },
  {
   "cell_type": "code",
   "execution_count": 11,
   "id": "892fe667",
   "metadata": {},
   "outputs": [],
   "source": [
    "# function can be stored in data structure\n"
   ]
  },
  {
   "cell_type": "code",
   "execution_count": 12,
   "id": "97ad4fcf",
   "metadata": {},
   "outputs": [],
   "source": [
    "# functions can be passed as function to other functions\n",
    "# allows behaviour to be abstracted away and passed around"
   ]
  },
  {
   "cell_type": "code",
   "execution_count": 14,
   "id": "ebc41813",
   "metadata": {},
   "outputs": [
    {
     "data": {
      "text/plain": [
       "['HI!', 'HEY!', 'HOLLA!', 'SALAAM ALAYKUM!']"
      ]
     },
     "execution_count": 14,
     "metadata": {},
     "output_type": "execute_result"
    }
   ],
   "source": [
    "# functions that can accept other functions are called Higher Order Functions\n",
    "# map is an example\n",
    "list(map(wail, [\"hi\", \"hey\", \"holla\", \"salaam alaykum\"])) #maps each list elemnt to wail function"
   ]
  },
  {
   "cell_type": "code",
   "execution_count": 21,
   "id": "0bc698f7",
   "metadata": {},
   "outputs": [
    {
     "data": {
      "text/plain": [
       "'yoooo'"
      ]
     },
     "execution_count": 21,
     "metadata": {},
     "output_type": "execute_result"
    }
   ],
   "source": [
    "# functions can be nested\n",
    "def whisper(text):\n",
    "    def whisperer(txt):\n",
    "        return txt.lower()\n",
    "    return whisperer(text)\n",
    "\n",
    "whisper(\"YOOOO\")"
   ]
  },
  {
   "cell_type": "code",
   "execution_count": 28,
   "id": "0f15d0b4",
   "metadata": {},
   "outputs": [
    {
     "data": {
      "text/plain": [
       "'the returned add functions remembers input 5: 15'"
      ]
     },
     "execution_count": 28,
     "metadata": {},
     "output_type": "execute_result"
    }
   ],
   "source": [
    "# functions can capture local state - lexical closures\n",
    "def make_adder(n):\n",
    "    def add(x):\n",
    "        return x + n\n",
    "    return add\n",
    "adder = make_adder(5)\n",
    "f\"the returned {adder.__name__} functions remembers input 5: {adder(10)}\""
   ]
  },
  {
   "cell_type": "code",
   "execution_count": 30,
   "id": "1698579a",
   "metadata": {},
   "outputs": [
    {
     "data": {
      "text/plain": [
       "15"
      ]
     },
     "execution_count": 30,
     "metadata": {},
     "output_type": "execute_result"
    }
   ],
   "source": [
    "# objects can behave like functions\n",
    "# by implementing __call__ functions\n",
    "# calling objects will execute the __call__ method\n",
    "# use callable method to check if object is callable\n",
    "# define an object\n",
    "class Adder:\n",
    "    def __init__(self, n):\n",
    "        self.n = n\n",
    "    def __call__(self, x):\n",
    "        return self.n + x\n",
    "addup = Adder(5)   #callls the constructor\n",
    "\n",
    "addup(10) #will call __call_ "
   ]
  },
  {
   "cell_type": "code",
   "execution_count": 31,
   "id": "2ead7561",
   "metadata": {},
   "outputs": [
    {
     "data": {
      "text/plain": [
       "[4, 9, 16, 25, 36, 49]"
      ]
     },
     "execution_count": 31,
     "metadata": {},
     "output_type": "execute_result"
    }
   ],
   "source": [
    "# LAMBDA are single experession function\n",
    "# we can test it by passing it to a higher order function\n",
    "list(map(lambda x: x**2, [2, 3, 4, 5, 6, 7]))"
   ]
  },
  {
   "cell_type": "code",
   "execution_count": null,
   "id": "37764687",
   "metadata": {},
   "outputs": [],
   "source": []
  }
 ],
 "metadata": {
  "kernelspec": {
   "display_name": "Python 3 (ipykernel)",
   "language": "python",
   "name": "python3"
  },
  "language_info": {
   "codemirror_mode": {
    "name": "ipython",
    "version": 3
   },
   "file_extension": ".py",
   "mimetype": "text/x-python",
   "name": "python",
   "nbconvert_exporter": "python",
   "pygments_lexer": "ipython3",
   "version": "3.9.16"
  }
 },
 "nbformat": 4,
 "nbformat_minor": 5
}
