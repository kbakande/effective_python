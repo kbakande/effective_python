{
 "cells": [
  {
   "cell_type": "markdown",
   "id": "ba54e48e",
   "metadata": {},
   "source": [
    "Logger [link](https://stackoverflow.com/questions/38537905/set-logging-levels)"
   ]
  },
  {
   "cell_type": "code",
   "execution_count": 1,
   "id": "4970a28c",
   "metadata": {},
   "outputs": [],
   "source": [
    "# import logging module\n",
    "import logging\n",
    "# logger = logging.getLogger(__name__)\n",
    "# logger.setLevel(logging.DEBUG)\n",
    "logging.basicConfig(level=logging.DEBUG)"
   ]
  },
  {
   "cell_type": "code",
   "execution_count": 2,
   "id": "43d73543",
   "metadata": {},
   "outputs": [
    {
     "name": "stderr",
     "output_type": "stream",
     "text": [
      "INFO:root:returns expected value\n"
     ]
    },
    {
     "data": {
      "text/plain": [
       "5"
      ]
     },
     "execution_count": 2,
     "metadata": {},
     "output_type": "execute_result"
    }
   ],
   "source": [
    "# define a function\n",
    "def sum(x: int, y: int) -> int:\n",
    "    logging.info('returns expected value')\n",
    "    return x + y\n",
    "\n",
    "sum(2,3)"
   ]
  },
  {
   "cell_type": "code",
   "execution_count": null,
   "id": "4ae5d32b",
   "metadata": {},
   "outputs": [],
   "source": [
    "# logging.__dict__"
   ]
  },
  {
   "cell_type": "code",
   "execution_count": null,
   "id": "3b27156c",
   "metadata": {},
   "outputs": [],
   "source": []
  }
 ],
 "metadata": {
  "kernelspec": {
   "display_name": "Python 3 (ipykernel)",
   "language": "python",
   "name": "python3"
  },
  "language_info": {
   "codemirror_mode": {
    "name": "ipython",
    "version": 3
   },
   "file_extension": ".py",
   "mimetype": "text/x-python",
   "name": "python",
   "nbconvert_exporter": "python",
   "pygments_lexer": "ipython3",
   "version": "3.9.16"
  }
 },
 "nbformat": 4,
 "nbformat_minor": 5
}
